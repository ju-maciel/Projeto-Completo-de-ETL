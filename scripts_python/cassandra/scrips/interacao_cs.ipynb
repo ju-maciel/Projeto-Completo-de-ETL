{
 "cells": [
  {
   "cell_type": "code",
   "execution_count": 8,
   "metadata": {},
   "outputs": [],
   "source": [
    "from pyspark.sql import SparkSession\n",
    "from pyspark.sql.functions import *"
   ]
  },
  {
   "cell_type": "code",
   "execution_count": 9,
   "metadata": {},
   "outputs": [],
   "source": [
    "spark = SparkSession\\\n",
    "    .builder\\\n",
    "    .appName(\"Spark Exploration App\")\\\n",
    "    .config(\"spark.jars.packages\", \"com.datastax.spark:spark-cassandra-connector_2.12:3.1.0\")\\\n",
    "    .config(\"spark.sql.extensions\",\"com.datastax.spark.connector.CassandraSparkExtensions\") \\\n",
    "    .config(\"spark.cassandra.connection.host\",\"34.71.101.86\") \\\n",
    "    .config(\"spark.cassandra.connection.port\",\"9042\") \\\n",
    "    .getOrCreate()"
   ]
  },
  {
   "cell_type": "code",
   "execution_count": 10,
   "metadata": {},
   "outputs": [],
   "source": [
    "keyspace = \"operadora2\""
   ]
  },
  {
   "cell_type": "code",
   "execution_count": 11,
   "metadata": {},
   "outputs": [],
   "source": [
    "def carregar_dados(table):\n",
    "    df = spark.read \\\n",
    "        .format(\"org.apache.spark.sql.cassandra\") \\\n",
    "        .option(\"keyspace\", keyspace) \\\n",
    "        .option(\"table\", table) \\\n",
    "        .load()\n",
    "    return df"
   ]
  },
  {
   "cell_type": "code",
   "execution_count": 12,
   "metadata": {},
   "outputs": [],
   "source": [
    "table = carregar_dados('operadora')"
   ]
  },
  {
   "cell_type": "code",
   "execution_count": 13,
   "metadata": {},
   "outputs": [
    {
     "name": "stdout",
     "output_type": "stream",
     "text": [
      "root\n",
      " |-- id_op: integer (nullable = false)\n",
      " |-- acessos: integer (nullable = true)\n",
      " |-- ano: integer (nullable = true)\n",
      " |-- cod_ibge: integer (nullable = true)\n",
      " |-- mes: string (nullable = true)\n",
      " |-- municipio: string (nullable = true)\n",
      " |-- regiao: string (nullable = true)\n",
      " |-- servico: string (nullable = true)\n",
      " |-- uf: string (nullable = true)\n",
      "\n"
     ]
    }
   ],
   "source": [
    "table.printSchema()"
   ]
  },
  {
   "cell_type": "code",
   "execution_count": 14,
   "metadata": {},
   "outputs": [
    {
     "name": "stdout",
     "output_type": "stream",
     "text": [
      "+-----+-------+----+--------+---+--------------------------+-----------+-----------------+---+\n",
      "|id_op|acessos|ano |cod_ibge|mes|municipio                 |regiao     |servico          |uf |\n",
      "+-----+-------+----+--------+---+--------------------------+-----------+-----------------+---+\n",
      "|47611|1603   |2019|5106422 |12 |Peixoto de Azevedo MT     |Centrooeste|Banda Larga Fixa |MT |\n",
      "|53384|290    |2019|3127602 |12 |Gouveia MG                |Sudeste    |TV por Assinatura|MG |\n",
      "|55358|35823  |2019|4107207 |12 |Dois Vizinhos PR          |Sul        |Telefonia Móvel  |PR |\n",
      "|33142|35966  |2020|5209101 |12 |Goiatuba GO               |Centrooeste|Telefonia Móvel  |GO |\n",
      "|47198|34275  |2019|5221601 |12 |Uruaçu GO                 |Centrooeste|Telefonia Móvel  |GO |\n",
      "|31801|4082   |2020|3550209 |12 |São Miguel Arcanjo SP     |Sudeste    |Telefonia Fixa   |SP |\n",
      "|37060|50     |2020|2924900 |12 |Planaltino BA             |Nordeste   |TV por Assinatura|BA |\n",
      "|11655|5356   |2021|2313906 |6  |Uruoca CE                 |Nordeste   |Telefonia Móvel  |CE |\n",
      "|56930|2659   |2019|3509106 |12 |Caiuá SP                  |Sudeste    |Telefonia Móvel  |SP |\n",
      "|26406|18599  |2020|5000708 |12 |Anastácio MS              |Centrooeste|Telefonia Móvel  |MS |\n",
      "|30498|2790   |2020|3134509 |12 |Itutinga MG               |Sudeste    |Telefonia Móvel  |MG |\n",
      "|9967 |1995   |2021|5002902 |6  |Cassilândia MS            |Centrooeste|Telefonia Fixa   |MS |\n",
      "|59692|16     |2019|2914307 |12 |Iramaia BA                |Nordeste   |TV por Assinatura|BA |\n",
      "|23640|4747   |2020|3510401 |12 |Capivari SP               |Sudeste    |TV por Assinatura|SP |\n",
      "|44004|178    |2020|2102754 |12 |Capinzal do Norte MA      |Nordeste   |TV por Assinatura|MA |\n",
      "|32373|364    |2020|2104677 |12 |Governador Nunes Freire MA|Nordeste   |Telefonia Fixa   |MA |\n",
      "|49176|528    |2019|3145851 |12 |Oratórios MG              |Sudeste    |TV por Assinatura|MG |\n",
      "|19354|4544   |2021|3533205 |6  |Nova Independência SP     |Sudeste    |Telefonia Móvel  |SP |\n",
      "|4447 |371    |2021|4217253 |6  |São Pedro de Alcântara SC |Sul        |TV por Assinatura|SC |\n",
      "|49295|207    |2019|4310751 |12 |Ivorá RS                  |Sul        |Banda Larga Fixa |RS |\n",
      "+-----+-------+----+--------+---+--------------------------+-----------+-----------------+---+\n",
      "only showing top 20 rows\n",
      "\n"
     ]
    }
   ],
   "source": [
    "table.show(truncate=False)"
   ]
  }
 ],
 "metadata": {
  "interpreter": {
   "hash": "8a6378035587bb97055001603ea9d85a2aa377cc6252a50ffca4355a71bc8b90"
  },
  "kernelspec": {
   "display_name": "Python 3.8.8 64-bit",
   "language": "python",
   "name": "python3"
  },
  "language_info": {
   "codemirror_mode": {
    "name": "ipython",
    "version": 3
   },
   "file_extension": ".py",
   "mimetype": "text/x-python",
   "name": "python",
   "nbconvert_exporter": "python",
   "pygments_lexer": "ipython3",
   "version": "3.8.8"
  },
  "orig_nbformat": 4
 },
 "nbformat": 4,
 "nbformat_minor": 2
}
