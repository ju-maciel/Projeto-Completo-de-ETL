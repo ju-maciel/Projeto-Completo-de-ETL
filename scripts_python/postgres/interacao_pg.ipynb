{
 "cells": [
  {
   "cell_type": "code",
   "execution_count": 45,
   "metadata": {},
   "outputs": [],
   "source": [
    "import psycopg2\n",
    "import pandas as pd"
   ]
  },
  {
   "cell_type": "code",
   "execution_count": 46,
   "metadata": {},
   "outputs": [],
   "source": [
    "import psycopg2\n",
    "import pandas as pd\n",
    "\n",
    "class Conectar:\n",
    "    def __init__(self, host, database, user, password):\n",
    "        self.host = host\n",
    "        self.database = database\n",
    "        self.user = user\n",
    "        self.password = password\n",
    "        \n",
    "    def conectar(self):\n",
    "        keepalive_kwargs = { \n",
    "        \"keepalives\": 1,\n",
    "        \"keepalives_idle\": 120,\n",
    "        \"keepalives_interval\": 40,\n",
    "        \"keepalives_count\": 20}\n",
    "        \n",
    "        con = psycopg2.connect(host=self.host, database=self.database, user=self.user,password=self.password, **keepalive_kwargs)\n",
    "        return con\n",
    "    \n",
    "    \n",
    "    def executar(self, query):\n",
    "        conexao = self.conectar()\n",
    "        cursor = conexao.cursor()\n",
    "        cursor.execute(query)\n",
    "        cursor.close()\n",
    "        \n",
    "        conexao.commit()\n",
    "        \n",
    "        return \"Feito!\"\n",
    "    \n",
    "    def selecionar(self, query):\n",
    "        cnx = self.conectar()\n",
    "        cursor = cnx.cursor()\n",
    "        cursor.execute(query)\n",
    "        resultado = cursor.fetchall()\n",
    "        return resultado\n",
    "    \n",
    "    def inserir(self, table, parametros, valores):\n",
    "        query = f\"INSERT INTO {table} ({parametros}) VALUES ({valores})\"\n",
    "        self.executar(query)\n",
    "    \n",
    "\n",
    "    def inserir_array(self, table, parametros, valores):\n",
    "        query = f\"INSERT INTO {table} ({parametros}) VALUES {valores}\" \n",
    "        self.executar(query) \n",
    "      "
   ]
  },
  {
   "cell_type": "code",
   "execution_count": 50,
   "metadata": {},
   "outputs": [],
   "source": [
    "c1 = Conectar(host=\"34.151.208.93\", database=\"operadora2\", user=\"postgres\",password=\"ROOT\")"
   ]
  },
  {
   "cell_type": "code",
   "execution_count": 51,
   "metadata": {},
   "outputs": [
    {
     "name": "stdout",
     "output_type": "stream",
     "text": [
      "[(66837,)]\n"
     ]
    }
   ],
   "source": [
    "print(c1.selecionar(\"select count(*) from operadora\"))"
   ]
  }
 ],
 "metadata": {
  "interpreter": {
   "hash": "8a6378035587bb97055001603ea9d85a2aa377cc6252a50ffca4355a71bc8b90"
  },
  "kernelspec": {
   "display_name": "Python 3.8.8 64-bit",
   "language": "python",
   "name": "python3"
  },
  "language_info": {
   "codemirror_mode": {
    "name": "ipython",
    "version": 3
   },
   "file_extension": ".py",
   "mimetype": "text/x-python",
   "name": "python",
   "nbconvert_exporter": "python",
   "pygments_lexer": "ipython3",
   "version": "3.8.8"
  },
  "orig_nbformat": 4
 },
 "nbformat": 4,
 "nbformat_minor": 2
}
